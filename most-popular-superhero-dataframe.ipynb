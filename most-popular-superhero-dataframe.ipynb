{
 "cells": [
  {
   "cell_type": "code",
   "execution_count": 1,
   "metadata": {
    "ExecuteTime": {
     "end_time": "2022-11-19T04:17:32.031184Z",
     "start_time": "2022-11-19T04:17:31.751092Z"
    }
   },
   "outputs": [],
   "source": [
    "from pyspark.sql import SparkSession\n",
    "from pyspark.sql import functions as func\n",
    "from pyspark.sql.types import StructType, StructField, IntegerType, StringType"
   ]
  },
  {
   "cell_type": "code",
   "execution_count": 2,
   "metadata": {
    "ExecuteTime": {
     "end_time": "2022-11-19T04:17:36.376535Z",
     "start_time": "2022-11-19T04:17:32.032586Z"
    }
   },
   "outputs": [],
   "source": [
    "spark = SparkSession.builder.appName(\"MostPopularSuperhero\").getOrCreate()"
   ]
  },
  {
   "cell_type": "code",
   "execution_count": 3,
   "metadata": {
    "ExecuteTime": {
     "end_time": "2022-11-19T04:17:36.392204Z",
     "start_time": "2022-11-19T04:17:36.378424Z"
    }
   },
   "outputs": [],
   "source": [
    "schema = StructType([ \\\n",
    "                     StructField(\"id\", IntegerType(), True), \\\n",
    "                     StructField(\"name\", StringType(), True)])"
   ]
  },
  {
   "cell_type": "code",
   "execution_count": 4,
   "metadata": {
    "ExecuteTime": {
     "end_time": "2022-11-19T04:17:38.046886Z",
     "start_time": "2022-11-19T04:17:36.394112Z"
    }
   },
   "outputs": [],
   "source": [
    "names = spark.read.schema(schema).option(\"sep\", \" \").csv(\"Marvel-names\")"
   ]
  },
  {
   "cell_type": "code",
   "execution_count": 5,
   "metadata": {
    "ExecuteTime": {
     "end_time": "2022-11-19T04:17:38.078800Z",
     "start_time": "2022-11-19T04:17:38.047871Z"
    }
   },
   "outputs": [],
   "source": [
    "lines = spark.read.text(\"Marvel-graph\")"
   ]
  },
  {
   "cell_type": "code",
   "execution_count": 6,
   "metadata": {
    "ExecuteTime": {
     "end_time": "2022-11-19T04:17:40.405741Z",
     "start_time": "2022-11-19T04:17:38.080805Z"
    }
   },
   "outputs": [
    {
     "name": "stdout",
     "output_type": "stream",
     "text": [
      "+--------------------+----+-----------+\n",
      "|               value|  id|connections|\n",
      "+--------------------+----+-----------+\n",
      "|5988 748 1722 375...|5988|         48|\n",
      "|5989 4080 4264 44...|5989|         40|\n",
      "|5982 217 595 1194...|5982|         42|\n",
      "|5983 1165 3836 43...|5983|         14|\n",
      "|5980 2731 3712 15...|5980|         24|\n",
      "|5981 3569 5353 40...|5981|         17|\n",
      "|5986 2658 3712 26...|5986|        142|\n",
      "|5987 2614 5716 17...|5987|         81|\n",
      "|5984 590 4898 745...|5984|         41|\n",
      "|5985 3233 2254 21...|5985|         19|\n",
      "|6294 4898 1127 32...|6294|         13|\n",
      "|270 2658 3003 380...| 270|         42|\n",
      "|271 4935 5716 430...| 271|          9|\n",
      "|272 2717 4363 408...| 272|         45|\n",
      "|273 1165 5013 511...| 273|         58|\n",
      "|274 3920 5310 402...| 274|        410|\n",
      "|275 4366 3373 158...| 275|         47|\n",
      "|276 2277 5251 480...| 276|         15|\n",
      "|277 1068 3495 619...| 277|         16|\n",
      "|278 1145 667 2650...| 278|        123|\n",
      "+--------------------+----+-----------+\n",
      "only showing top 20 rows\n",
      "\n"
     ]
    }
   ],
   "source": [
    "lines.withColumn(\"id\", func.split(func.trim(func.col(\"value\")), \" \")[0]) \\\n",
    "    .withColumn(\"connections\", func.size(func.split(func.trim(func.col(\"value\")), \" \")) - 1).show()"
   ]
  },
  {
   "cell_type": "code",
   "execution_count": null,
   "metadata": {},
   "outputs": [],
   "source": []
  },
  {
   "cell_type": "code",
   "execution_count": null,
   "metadata": {},
   "outputs": [],
   "source": []
  },
  {
   "cell_type": "code",
   "execution_count": null,
   "metadata": {},
   "outputs": [],
   "source": []
  },
  {
   "cell_type": "markdown",
   "metadata": {},
   "source": [
    "Small tweak vs. what's shown in the video: we trim each line of whitespace as that could<br>\n",
    "throw off the counts."
   ]
  },
  {
   "cell_type": "code",
   "execution_count": 7,
   "metadata": {
    "ExecuteTime": {
     "end_time": "2022-11-19T04:17:43.914880Z",
     "start_time": "2022-11-19T04:17:40.407740Z"
    }
   },
   "outputs": [],
   "source": [
    "connections = lines.withColumn(\"id\", func.split(func.trim(func.col(\"value\")), \" \")[0]) \\\n",
    "    .withColumn(\"connections\", func.size(func.split(func.trim(func.col(\"value\")), \" \")) - 1) \\\n",
    "    .groupBy(\"id\").agg(func.sum(\"connections\").alias(\"connections\"))\n",
    "    \n",
    "mostPopular = connections.sort(func.col(\"connections\").desc()).first()"
   ]
  },
  {
   "cell_type": "code",
   "execution_count": 8,
   "metadata": {
    "ExecuteTime": {
     "end_time": "2022-11-19T04:17:43.945868Z",
     "start_time": "2022-11-19T04:17:43.917869Z"
    }
   },
   "outputs": [
    {
     "data": {
      "text/plain": [
       "Row(id='859', connections=1933)"
      ]
     },
     "execution_count": 8,
     "metadata": {},
     "output_type": "execute_result"
    }
   ],
   "source": [
    "mostPopular"
   ]
  },
  {
   "cell_type": "code",
   "execution_count": 9,
   "metadata": {
    "ExecuteTime": {
     "end_time": "2022-11-19T04:17:44.487881Z",
     "start_time": "2022-11-19T04:17:43.948867Z"
    }
   },
   "outputs": [],
   "source": [
    "mostPopularName = names.filter(func.col(\"id\") == mostPopular[0]).select(\"name\").first()"
   ]
  },
  {
   "cell_type": "code",
   "execution_count": 15,
   "metadata": {
    "ExecuteTime": {
     "end_time": "2022-11-19T04:18:12.300595Z",
     "start_time": "2022-11-19T04:18:12.295039Z"
    }
   },
   "outputs": [
    {
     "data": {
      "text/plain": [
       "pyspark.sql.types.Row"
      ]
     },
     "execution_count": 15,
     "metadata": {},
     "output_type": "execute_result"
    }
   ],
   "source": [
    "type(mostPopularName)"
   ]
  },
  {
   "cell_type": "code",
   "execution_count": 11,
   "metadata": {
    "ExecuteTime": {
     "end_time": "2022-11-19T04:17:44.565918Z",
     "start_time": "2022-11-19T04:17:44.506872Z"
    }
   },
   "outputs": [
    {
     "name": "stdout",
     "output_type": "stream",
     "text": [
      "CAPTAIN AMERICA is the most popular superhero with 1933 co-appearances.\n"
     ]
    }
   ],
   "source": [
    "print(mostPopularName[0] + \" is the most popular superhero with \" + str(mostPopular[1]) + \" co-appearances.\")"
   ]
  }
 ],
 "metadata": {
  "kernelspec": {
   "display_name": "Python 3 (ipykernel)",
   "language": "python",
   "name": "python3"
  },
  "language_info": {
   "codemirror_mode": {
    "name": "ipython",
    "version": 3
   },
   "file_extension": ".py",
   "mimetype": "text/x-python",
   "name": "python",
   "nbconvert_exporter": "python",
   "pygments_lexer": "ipython3",
   "version": "3.10.6"
  }
 },
 "nbformat": 4,
 "nbformat_minor": 2
}
